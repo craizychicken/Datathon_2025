{
 "cells": [
  {
   "cell_type": "code",
   "execution_count": 18,
   "id": "79ed3efa",
   "metadata": {},
   "outputs": [],
   "source": [
    "import pandas as pd\n",
    "import numpy as np\n",
    "from sklearn.ensemble import RandomForestRegressor\n",
    "from sklearn.model_selection import train_test_split\n",
    "from sklearn.metrics import mean_squared_error, r2_score\n",
    "from sklearn.preprocessing import OneHotEncoder"
   ]
  },
  {
   "cell_type": "markdown",
   "id": "df48a48c",
   "metadata": {},
   "source": [
    "#### Find out what one hot encoder is, and random forest regressor, and yap why it good"
   ]
  },
  {
   "cell_type": "code",
   "execution_count": 19,
   "id": "77b48e81",
   "metadata": {},
   "outputs": [
    {
     "name": "stdout",
     "output_type": "stream",
     "text": [
      "Missing values in merged data: 0\n",
      "Model Performance:\n",
      "Root Mean Squared Error: 14199.92\n",
      "Normal root Mean Squared Error: 0.64\n",
      "R² Score: 0.44\n"
     ]
    }
   ],
   "source": [
    "# 1. Load Data (Assuming these are now DataFrames)\n",
    "visitor_data = pd.read_csv(\"cleaned_visit_data.csv\")\n",
    "climate_data = pd.read_csv(\"cleaned_climate_data.csv\")\n",
    "\n",
    "\n",
    "# Transform visitor data from wide to long format\n",
    "visitor_long = visitor_data.melt(\n",
    "    id_vars=['Year', 'Week'], \n",
    "    var_name='mount_id', \n",
    "    value_name='visitors'\n",
    ")\n",
    "\n",
    "# Convert mount_id to integer for merging\n",
    "visitor_long['mount_id'] = visitor_long['mount_id'].astype(int)\n",
    "\n",
    "# Aggregate climate data by week and mountain (average weather conditions)\n",
    "climate_agg = climate_data.groupby(['mount_id', 'Year', 'week']).agg({\n",
    "    'max_temp': 'mean',\n",
    "    'min_temp': 'mean',\n",
    "    'rain': 'mean'\n",
    "}).reset_index()\n",
    "\n",
    "# Merge visitor and climate data\n",
    "merged_data = pd.merge(\n",
    "    visitor_long, \n",
    "    climate_agg, \n",
    "    left_on=['mount_id', 'Year', 'Week'], \n",
    "    right_on=['mount_id', 'Year', 'week'],\n",
    "    how='inner'  # Use inner join to ensure we have complete data\n",
    ")\n",
    "\n",
    "# Drop the redundant week column\n",
    "merged_data = merged_data.drop(columns=['week'])\n",
    "\n",
    "# Handle missing data if any\n",
    "print(f\"Missing values in merged data: {merged_data.isnull().sum().sum()}\")\n",
    "\n",
    "# Prepare features and target\n",
    "X = merged_data[['mount_id', 'max_temp', 'min_temp', 'rain']]\n",
    "y = merged_data['visitors']\n",
    "\n",
    "# Encode mountain ID as categorical feature\n",
    "encoder = OneHotEncoder(sparse_output=False, handle_unknown='ignore')\n",
    "mount_encoded = encoder.fit_transform(X[['mount_id']])\n",
    "mount_encoded_df = pd.DataFrame(\n",
    "    mount_encoded, \n",
    "    columns=encoder.get_feature_names_out(['mount_id'])\n",
    ")\n",
    "\n",
    "# Combine with numerical features\n",
    "X_numerical = X[['max_temp', 'min_temp', 'rain']].reset_index(drop=True)\n",
    "X_processed = pd.concat([mount_encoded_df, X_numerical], axis=1)\n",
    "\n",
    "# Split the data\n",
    "X_train, X_test, y_train, y_test = train_test_split(\n",
    "    X_processed, y, test_size=0.2, random_state=42\n",
    ")\n",
    "\n",
    "# Train the model\n",
    "model = RandomForestRegressor(n_estimators=100, random_state=42)\n",
    "model.fit(X_train, y_train)\n",
    "\n",
    "# Evaluate the model\n",
    "y_pred = model.predict(X_test)\n",
    "mse = mean_squared_error(y_test, y_pred)\n",
    "nsme = np.sqrt(mse)\n",
    "r2 = r2_score(y_test, y_pred)\n",
    "\n",
    "print(f\"Model Performance:\")\n",
    "print(f\"Root Mean Squared Error: {nsme:.2f}\")\n",
    "print(f\"Normal root Mean Squared Error: {nsme/y.mean():.2f}\")\n",
    "print(f\"R² Score: {r2:.2f}\")\n"
   ]
  },
  {
   "cell_type": "code",
   "execution_count": 20,
   "id": "10ee9e64",
   "metadata": {},
   "outputs": [
    {
     "name": "stdout",
     "output_type": "stream",
     "text": [
      "\n",
      "Example Prediction:\n",
      "Predicted visitors for mountain 71075 with max_temp=15, min_temp=5, rain=0.5: 41458\n"
     ]
    }
   ],
   "source": [
    "\n",
    "# Function to predict visitors for new weather conditions\n",
    "def predict_visitors(mount_id, max_temp, min_temp, rain):\n",
    "    # Create a dataframe with the input data\n",
    "    input_data = pd.DataFrame({\n",
    "        'mount_id': [mount_id],\n",
    "        'max_temp': [max_temp],\n",
    "        'min_temp': [min_temp],\n",
    "        'rain': [rain]\n",
    "    })\n",
    "    \n",
    "    # Encode the mountain ID\n",
    "    mount_encoded = encoder.transform(input_data[['mount_id']])\n",
    "    mount_encoded_df = pd.DataFrame(\n",
    "        mount_encoded, \n",
    "        columns=encoder.get_feature_names_out(['mount_id'])\n",
    "    )\n",
    "    \n",
    "    # Combine with numerical features\n",
    "    numerical_features = input_data[['max_temp', 'min_temp', 'rain']].reset_index(drop=True)\n",
    "    processed_input = pd.concat([mount_encoded_df, numerical_features], axis=1)\n",
    "    \n",
    "    # Ensure all columns are present (handle unknown mountains)\n",
    "    for col in X_processed.columns:\n",
    "        if col not in processed_input.columns:\n",
    "            processed_input[col] = 0\n",
    "    \n",
    "    # Reorder columns to match training data\n",
    "    processed_input = processed_input[X_processed.columns]\n",
    "    \n",
    "    # Make prediction\n",
    "    prediction = model.predict(processed_input)\n",
    "    return prediction[0]\n",
    "\n",
    "# Example usage\n",
    "print(\"\\nExample Prediction:\")\n",
    "predicted_visitors = predict_visitors(71075, 15.0, 5.0, 0.5)\n",
    "print(f\"Predicted visitors for mountain 71075 with max_temp=15, min_temp=5, rain=0.5: {predicted_visitors:.0f}\")"
   ]
  },
  {
   "cell_type": "markdown",
   "id": "db3a74c2",
   "metadata": {},
   "source": [
    "## Find amount of visitor for a given mount id per week"
   ]
  },
  {
   "cell_type": "code",
   "execution_count": 21,
   "id": "5501962e",
   "metadata": {},
   "outputs": [],
   "source": [
    "weather_forecast = pd.read_csv(\"weather_forecast_2026.csv\")\n",
    "RESULT_CSV = \"visitor_forecast_2026.csv\"\n",
    "\n",
    "dataframe = {\"Mount\":[], \"Week\":[], \"Visitors\":[]}"
   ]
  },
  {
   "cell_type": "code",
   "execution_count": 22,
   "id": "523e50a7",
   "metadata": {},
   "outputs": [],
   "source": [
    "stations = {\n",
    "    71032: 'Thredbo',\n",
    "    71075: 'Perisher',\n",
    "    72161: 'Selwyn',\n",
    "    83024: 'Mt. Buller',\n",
    "    83084: 'Falls Creek',\n",
    "    83085: 'Mt. Hotham',\n",
    "    85291: 'Mt. Baw Baw'\n",
    "}\n",
    "\n",
    "for i in weather_forecast.index:\n",
    "    mount_id = weather_forecast[\"mount_id\"][i]\n",
    "    week = weather_forecast[\"week\"][i]\n",
    "    max_temp = weather_forecast[\"max_temp\"][i]\n",
    "    min_temp = weather_forecast[\"min_temp\"][i]\n",
    "    rain = weather_forecast[\"rain\"][i]\n",
    "\n",
    "    visitors = predict_visitors(mount_id, max_temp, min_temp, rain)\n",
    "\n",
    "    dataframe[\"Mount\"].append(stations[mount_id])\n",
    "    dataframe[\"Week\"].append(week)\n",
    "    dataframe[\"Visitors\"].append(round(visitors))"
   ]
  },
  {
   "cell_type": "code",
   "execution_count": 23,
   "id": "a7e315ec",
   "metadata": {},
   "outputs": [],
   "source": [
    "pd.DataFrame(dataframe).to_csv(RESULT_CSV, index=False)"
   ]
  }
 ],
 "metadata": {
  "kernelspec": {
   "display_name": "Python 3",
   "language": "python",
   "name": "python3"
  },
  "language_info": {
   "codemirror_mode": {
    "name": "ipython",
    "version": 3
   },
   "file_extension": ".py",
   "mimetype": "text/x-python",
   "name": "python",
   "nbconvert_exporter": "python",
   "pygments_lexer": "ipython3",
   "version": "3.13.5"
  }
 },
 "nbformat": 4,
 "nbformat_minor": 5
}
