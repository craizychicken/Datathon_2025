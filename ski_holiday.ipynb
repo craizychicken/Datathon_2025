{
 "cells": [
  {
   "cell_type": "code",
   "execution_count": 1,
   "id": "b2c45bd1",
   "metadata": {},
   "outputs": [],
   "source": [
    "import pandas as pd\n",
    "import numpy as np"
   ]
  },
  {
   "cell_type": "code",
   "execution_count": 2,
   "id": "edab0099",
   "metadata": {},
   "outputs": [],
   "source": [
    "visitation_data = \"visitation_d.csv\"\n",
    "climate_data = \"climate_d.csv\"\n",
    "\n",
    "visit_df = pd.read_csv(visitation_data)\n",
    "clim_df = pd.read_csv(climate_data)"
   ]
  },
  {
   "cell_type": "markdown",
   "id": "2cfc6617",
   "metadata": {},
   "source": [
    "## Cleaning visitation data"
   ]
  },
  {
   "cell_type": "code",
   "execution_count": 3,
   "id": "6208d7fb",
   "metadata": {},
   "outputs": [
    {
     "data": {
      "text/html": [
       "<div>\n",
       "<style scoped>\n",
       "    .dataframe tbody tr th:only-of-type {\n",
       "        vertical-align: middle;\n",
       "    }\n",
       "\n",
       "    .dataframe tbody tr th {\n",
       "        vertical-align: top;\n",
       "    }\n",
       "\n",
       "    .dataframe thead th {\n",
       "        text-align: right;\n",
       "    }\n",
       "</style>\n",
       "<table border=\"1\" class=\"dataframe\">\n",
       "  <thead>\n",
       "    <tr style=\"text-align: right;\">\n",
       "      <th></th>\n",
       "      <th>Year</th>\n",
       "      <th>Week</th>\n",
       "      <th>Mt. Baw Baw</th>\n",
       "      <th>Mt. Stirling</th>\n",
       "      <th>Mt. Hotham</th>\n",
       "      <th>Falls Creek</th>\n",
       "      <th>Mt. Buller</th>\n",
       "      <th>Selwyn</th>\n",
       "      <th>Thredbo</th>\n",
       "      <th>Perisher</th>\n",
       "      <th>Charlotte Pass</th>\n",
       "    </tr>\n",
       "  </thead>\n",
       "  <tbody>\n",
       "    <tr>\n",
       "      <th>0</th>\n",
       "      <td>2014.0</td>\n",
       "      <td>1.0</td>\n",
       "      <td>555.0</td>\n",
       "      <td>60.0</td>\n",
       "      <td>3483.0</td>\n",
       "      <td>2790.0</td>\n",
       "      <td>8296.0</td>\n",
       "      <td>1041.0</td>\n",
       "      <td>5535.0</td>\n",
       "      <td>7370.0</td>\n",
       "      <td>408.0</td>\n",
       "    </tr>\n",
       "    <tr>\n",
       "      <th>1</th>\n",
       "      <td>2014.0</td>\n",
       "      <td>2.0</td>\n",
       "      <td>804.0</td>\n",
       "      <td>42.0</td>\n",
       "      <td>1253.0</td>\n",
       "      <td>1425.0</td>\n",
       "      <td>1987.0</td>\n",
       "      <td>383.0</td>\n",
       "      <td>2090.0</td>\n",
       "      <td>2751.0</td>\n",
       "      <td>151.0</td>\n",
       "    </tr>\n",
       "    <tr>\n",
       "      <th>2</th>\n",
       "      <td>2014.0</td>\n",
       "      <td>3.0</td>\n",
       "      <td>993.0</td>\n",
       "      <td>30.0</td>\n",
       "      <td>2992.0</td>\n",
       "      <td>2101.0</td>\n",
       "      <td>2413.0</td>\n",
       "      <td>597.0</td>\n",
       "      <td>3216.0</td>\n",
       "      <td>4255.0</td>\n",
       "      <td>230.0</td>\n",
       "    </tr>\n",
       "    <tr>\n",
       "      <th>3</th>\n",
       "      <td>2014.0</td>\n",
       "      <td>4.0</td>\n",
       "      <td>2976.0</td>\n",
       "      <td>165.0</td>\n",
       "      <td>9680.0</td>\n",
       "      <td>9544.0</td>\n",
       "      <td>18831.0</td>\n",
       "      <td>2877.0</td>\n",
       "      <td>15497.0</td>\n",
       "      <td>20265.0</td>\n",
       "      <td>1134.0</td>\n",
       "    </tr>\n",
       "    <tr>\n",
       "      <th>4</th>\n",
       "      <td>2014.0</td>\n",
       "      <td>5.0</td>\n",
       "      <td>11112.0</td>\n",
       "      <td>645.0</td>\n",
       "      <td>29628.0</td>\n",
       "      <td>26211.0</td>\n",
       "      <td>49217.0</td>\n",
       "      <td>8588.0</td>\n",
       "      <td>46546.0</td>\n",
       "      <td>61339.0</td>\n",
       "      <td>3403.0</td>\n",
       "    </tr>\n",
       "  </tbody>\n",
       "</table>\n",
       "</div>"
      ],
      "text/plain": [
       "     Year  Week  Mt. Baw Baw  Mt. Stirling  Mt. Hotham  Falls Creek  \\\n",
       "0  2014.0   1.0        555.0          60.0      3483.0       2790.0   \n",
       "1  2014.0   2.0        804.0          42.0      1253.0       1425.0   \n",
       "2  2014.0   3.0        993.0          30.0      2992.0       2101.0   \n",
       "3  2014.0   4.0       2976.0         165.0      9680.0       9544.0   \n",
       "4  2014.0   5.0      11112.0         645.0     29628.0      26211.0   \n",
       "\n",
       "   Mt. Buller  Selwyn  Thredbo  Perisher  Charlotte Pass  \n",
       "0      8296.0  1041.0   5535.0    7370.0           408.0  \n",
       "1      1987.0   383.0   2090.0    2751.0           151.0  \n",
       "2      2413.0   597.0   3216.0    4255.0           230.0  \n",
       "3     18831.0  2877.0  15497.0   20265.0          1134.0  \n",
       "4     49217.0  8588.0  46546.0   61339.0          3403.0  "
      ]
     },
     "execution_count": 3,
     "metadata": {},
     "output_type": "execute_result"
    }
   ],
   "source": [
    "visit_df.head(5)"
   ]
  },
  {
   "cell_type": "code",
   "execution_count": 4,
   "id": "c933cd08",
   "metadata": {},
   "outputs": [
    {
     "data": {
      "text/plain": [
       "Year              float64\n",
       "Week              float64\n",
       "Mt. Baw Baw       float64\n",
       "Mt. Stirling      float64\n",
       "Mt. Hotham        float64\n",
       "Falls Creek       float64\n",
       "Mt. Buller        float64\n",
       "Selwyn            float64\n",
       "Thredbo           float64\n",
       "Perisher          float64\n",
       "Charlotte Pass    float64\n",
       "dtype: object"
      ]
     },
     "execution_count": 4,
     "metadata": {},
     "output_type": "execute_result"
    }
   ],
   "source": [
    "visit_df.dtypes"
   ]
  },
  {
   "cell_type": "code",
   "execution_count": 5,
   "id": "64ebaa41",
   "metadata": {},
   "outputs": [
    {
     "name": "stdout",
     "output_type": "stream",
     "text": [
      "<class 'pandas.core.frame.DataFrame'>\n",
      "RangeIndex: 999 entries, 0 to 998\n",
      "Data columns (total 11 columns):\n",
      " #   Column          Non-Null Count  Dtype  \n",
      "---  ------          --------------  -----  \n",
      " 0   Year            165 non-null    float64\n",
      " 1   Week            165 non-null    float64\n",
      " 2   Mt. Baw Baw     165 non-null    float64\n",
      " 3   Mt. Stirling    165 non-null    float64\n",
      " 4   Mt. Hotham      165 non-null    float64\n",
      " 5   Falls Creek     165 non-null    float64\n",
      " 6   Mt. Buller      165 non-null    float64\n",
      " 7   Selwyn          165 non-null    float64\n",
      " 8   Thredbo         165 non-null    float64\n",
      " 9   Perisher        165 non-null    float64\n",
      " 10  Charlotte Pass  165 non-null    float64\n",
      "dtypes: float64(11)\n",
      "memory usage: 86.0 KB\n"
     ]
    }
   ],
   "source": [
    "visit_df.info()"
   ]
  },
  {
   "cell_type": "code",
   "execution_count": 6,
   "id": "af590e92",
   "metadata": {},
   "outputs": [
    {
     "data": {
      "text/plain": [
       "Year              165\n",
       "Week              165\n",
       "Mt. Baw Baw       165\n",
       "Mt. Stirling      165\n",
       "Mt. Hotham        165\n",
       "Falls Creek       165\n",
       "Mt. Buller        165\n",
       "Selwyn            165\n",
       "Thredbo           165\n",
       "Perisher          165\n",
       "Charlotte Pass    165\n",
       "dtype: int64"
      ]
     },
     "execution_count": 6,
     "metadata": {},
     "output_type": "execute_result"
    }
   ],
   "source": [
    "visit_df.count() # check for null values"
   ]
  },
  {
   "cell_type": "code",
   "execution_count": 7,
   "id": "221bcbcc",
   "metadata": {},
   "outputs": [
    {
     "data": {
      "text/html": [
       "<div>\n",
       "<style scoped>\n",
       "    .dataframe tbody tr th:only-of-type {\n",
       "        vertical-align: middle;\n",
       "    }\n",
       "\n",
       "    .dataframe tbody tr th {\n",
       "        vertical-align: top;\n",
       "    }\n",
       "\n",
       "    .dataframe thead th {\n",
       "        text-align: right;\n",
       "    }\n",
       "</style>\n",
       "<table border=\"1\" class=\"dataframe\">\n",
       "  <thead>\n",
       "    <tr style=\"text-align: right;\">\n",
       "      <th></th>\n",
       "      <th>Year</th>\n",
       "      <th>Week</th>\n",
       "      <th>Mt. Baw Baw</th>\n",
       "      <th>Mt. Stirling</th>\n",
       "      <th>Mt. Hotham</th>\n",
       "      <th>Falls Creek</th>\n",
       "      <th>Mt. Buller</th>\n",
       "      <th>Selwyn</th>\n",
       "      <th>Thredbo</th>\n",
       "      <th>Perisher</th>\n",
       "      <th>Charlotte Pass</th>\n",
       "    </tr>\n",
       "  </thead>\n",
       "  <tbody>\n",
       "    <tr>\n",
       "      <th>count</th>\n",
       "      <td>165.000000</td>\n",
       "      <td>165.000000</td>\n",
       "      <td>165.000000</td>\n",
       "      <td>165.000000</td>\n",
       "      <td>165.000000</td>\n",
       "      <td>165.000000</td>\n",
       "      <td>165.000000</td>\n",
       "      <td>165.000000</td>\n",
       "      <td>165.000000</td>\n",
       "      <td>165.000000</td>\n",
       "      <td>165.000000</td>\n",
       "    </tr>\n",
       "    <tr>\n",
       "      <th>mean</th>\n",
       "      <td>2019.000000</td>\n",
       "      <td>8.000000</td>\n",
       "      <td>5373.648485</td>\n",
       "      <td>589.981818</td>\n",
       "      <td>20110.333333</td>\n",
       "      <td>24027.145455</td>\n",
       "      <td>29349.296970</td>\n",
       "      <td>5536.533333</td>\n",
       "      <td>30020.884848</td>\n",
       "      <td>39649.515152</td>\n",
       "      <td>2181.812121</td>\n",
       "    </tr>\n",
       "    <tr>\n",
       "      <th>std</th>\n",
       "      <td>3.171904</td>\n",
       "      <td>4.333646</td>\n",
       "      <td>3924.269031</td>\n",
       "      <td>529.497558</td>\n",
       "      <td>12198.935589</td>\n",
       "      <td>14176.688461</td>\n",
       "      <td>17768.711945</td>\n",
       "      <td>3383.338655</td>\n",
       "      <td>18363.819945</td>\n",
       "      <td>24258.783674</td>\n",
       "      <td>1334.790842</td>\n",
       "    </tr>\n",
       "    <tr>\n",
       "      <th>min</th>\n",
       "      <td>2014.000000</td>\n",
       "      <td>1.000000</td>\n",
       "      <td>0.000000</td>\n",
       "      <td>0.000000</td>\n",
       "      <td>0.000000</td>\n",
       "      <td>0.000000</td>\n",
       "      <td>0.000000</td>\n",
       "      <td>0.000000</td>\n",
       "      <td>0.000000</td>\n",
       "      <td>0.000000</td>\n",
       "      <td>0.000000</td>\n",
       "    </tr>\n",
       "    <tr>\n",
       "      <th>25%</th>\n",
       "      <td>2016.000000</td>\n",
       "      <td>4.000000</td>\n",
       "      <td>1757.000000</td>\n",
       "      <td>98.000000</td>\n",
       "      <td>8368.000000</td>\n",
       "      <td>8741.000000</td>\n",
       "      <td>12397.000000</td>\n",
       "      <td>2180.000000</td>\n",
       "      <td>11543.000000</td>\n",
       "      <td>15236.000000</td>\n",
       "      <td>842.000000</td>\n",
       "    </tr>\n",
       "    <tr>\n",
       "      <th>50%</th>\n",
       "      <td>2019.000000</td>\n",
       "      <td>8.000000</td>\n",
       "      <td>5565.000000</td>\n",
       "      <td>480.000000</td>\n",
       "      <td>21856.000000</td>\n",
       "      <td>28099.000000</td>\n",
       "      <td>33328.000000</td>\n",
       "      <td>6454.000000</td>\n",
       "      <td>34676.000000</td>\n",
       "      <td>46265.000000</td>\n",
       "      <td>2542.000000</td>\n",
       "    </tr>\n",
       "    <tr>\n",
       "      <th>75%</th>\n",
       "      <td>2022.000000</td>\n",
       "      <td>12.000000</td>\n",
       "      <td>8513.000000</td>\n",
       "      <td>962.000000</td>\n",
       "      <td>30944.000000</td>\n",
       "      <td>36692.000000</td>\n",
       "      <td>44315.000000</td>\n",
       "      <td>8530.000000</td>\n",
       "      <td>46015.000000</td>\n",
       "      <td>60788.000000</td>\n",
       "      <td>3344.000000</td>\n",
       "    </tr>\n",
       "    <tr>\n",
       "      <th>max</th>\n",
       "      <td>2024.000000</td>\n",
       "      <td>15.000000</td>\n",
       "      <td>18031.000000</td>\n",
       "      <td>2097.000000</td>\n",
       "      <td>44648.000000</td>\n",
       "      <td>49697.000000</td>\n",
       "      <td>66326.000000</td>\n",
       "      <td>12863.000000</td>\n",
       "      <td>70634.000000</td>\n",
       "      <td>93226.000000</td>\n",
       "      <td>5033.000000</td>\n",
       "    </tr>\n",
       "  </tbody>\n",
       "</table>\n",
       "</div>"
      ],
      "text/plain": [
       "              Year        Week   Mt. Baw Baw  Mt. Stirling    Mt. Hotham  \\\n",
       "count   165.000000  165.000000    165.000000    165.000000    165.000000   \n",
       "mean   2019.000000    8.000000   5373.648485    589.981818  20110.333333   \n",
       "std       3.171904    4.333646   3924.269031    529.497558  12198.935589   \n",
       "min    2014.000000    1.000000      0.000000      0.000000      0.000000   \n",
       "25%    2016.000000    4.000000   1757.000000     98.000000   8368.000000   \n",
       "50%    2019.000000    8.000000   5565.000000    480.000000  21856.000000   \n",
       "75%    2022.000000   12.000000   8513.000000    962.000000  30944.000000   \n",
       "max    2024.000000   15.000000  18031.000000   2097.000000  44648.000000   \n",
       "\n",
       "        Falls Creek    Mt. Buller        Selwyn       Thredbo      Perisher  \\\n",
       "count    165.000000    165.000000    165.000000    165.000000    165.000000   \n",
       "mean   24027.145455  29349.296970   5536.533333  30020.884848  39649.515152   \n",
       "std    14176.688461  17768.711945   3383.338655  18363.819945  24258.783674   \n",
       "min        0.000000      0.000000      0.000000      0.000000      0.000000   \n",
       "25%     8741.000000  12397.000000   2180.000000  11543.000000  15236.000000   \n",
       "50%    28099.000000  33328.000000   6454.000000  34676.000000  46265.000000   \n",
       "75%    36692.000000  44315.000000   8530.000000  46015.000000  60788.000000   \n",
       "max    49697.000000  66326.000000  12863.000000  70634.000000  93226.000000   \n",
       "\n",
       "       Charlotte Pass  \n",
       "count      165.000000  \n",
       "mean      2181.812121  \n",
       "std       1334.790842  \n",
       "min          0.000000  \n",
       "25%        842.000000  \n",
       "50%       2542.000000  \n",
       "75%       3344.000000  \n",
       "max       5033.000000  "
      ]
     },
     "execution_count": 7,
     "metadata": {},
     "output_type": "execute_result"
    }
   ],
   "source": [
    "visit_df.describe()"
   ]
  },
  {
   "cell_type": "markdown",
   "id": "d52c2bf9",
   "metadata": {},
   "source": [
    "## Cleaning climate data"
   ]
  },
  {
   "cell_type": "code",
   "execution_count": 8,
   "id": "d0b2957e",
   "metadata": {},
   "outputs": [
    {
     "data": {
      "text/html": [
       "<div>\n",
       "<style scoped>\n",
       "    .dataframe tbody tr th:only-of-type {\n",
       "        vertical-align: middle;\n",
       "    }\n",
       "\n",
       "    .dataframe tbody tr th {\n",
       "        vertical-align: top;\n",
       "    }\n",
       "\n",
       "    .dataframe thead th {\n",
       "        text-align: right;\n",
       "    }\n",
       "</style>\n",
       "<table border=\"1\" class=\"dataframe\">\n",
       "  <thead>\n",
       "    <tr style=\"text-align: right;\">\n",
       "      <th></th>\n",
       "      <th>Bureau of Meteorology station number</th>\n",
       "      <th>Year</th>\n",
       "      <th>Month</th>\n",
       "      <th>Day</th>\n",
       "      <th>Maximum temperature (Degree C)</th>\n",
       "      <th>Minimum temperature (Degree C)</th>\n",
       "      <th>Rainfall amount (millimetres)</th>\n",
       "    </tr>\n",
       "  </thead>\n",
       "  <tbody>\n",
       "    <tr>\n",
       "      <th>0</th>\n",
       "      <td>71075</td>\n",
       "      <td>2010</td>\n",
       "      <td>1</td>\n",
       "      <td>1</td>\n",
       "      <td>NaN</td>\n",
       "      <td>NaN</td>\n",
       "      <td>NaN</td>\n",
       "    </tr>\n",
       "    <tr>\n",
       "      <th>1</th>\n",
       "      <td>71075</td>\n",
       "      <td>2010</td>\n",
       "      <td>1</td>\n",
       "      <td>2</td>\n",
       "      <td>NaN</td>\n",
       "      <td>NaN</td>\n",
       "      <td>NaN</td>\n",
       "    </tr>\n",
       "    <tr>\n",
       "      <th>2</th>\n",
       "      <td>71075</td>\n",
       "      <td>2010</td>\n",
       "      <td>1</td>\n",
       "      <td>3</td>\n",
       "      <td>NaN</td>\n",
       "      <td>NaN</td>\n",
       "      <td>NaN</td>\n",
       "    </tr>\n",
       "    <tr>\n",
       "      <th>3</th>\n",
       "      <td>71075</td>\n",
       "      <td>2010</td>\n",
       "      <td>1</td>\n",
       "      <td>4</td>\n",
       "      <td>NaN</td>\n",
       "      <td>NaN</td>\n",
       "      <td>NaN</td>\n",
       "    </tr>\n",
       "    <tr>\n",
       "      <th>4</th>\n",
       "      <td>71075</td>\n",
       "      <td>2010</td>\n",
       "      <td>1</td>\n",
       "      <td>5</td>\n",
       "      <td>NaN</td>\n",
       "      <td>NaN</td>\n",
       "      <td>NaN</td>\n",
       "    </tr>\n",
       "  </tbody>\n",
       "</table>\n",
       "</div>"
      ],
      "text/plain": [
       "   Bureau of Meteorology station number  Year  Month  Day  \\\n",
       "0                                 71075  2010      1    1   \n",
       "1                                 71075  2010      1    2   \n",
       "2                                 71075  2010      1    3   \n",
       "3                                 71075  2010      1    4   \n",
       "4                                 71075  2010      1    5   \n",
       "\n",
       "   Maximum temperature (Degree C)  Minimum temperature (Degree C)  \\\n",
       "0                             NaN                             NaN   \n",
       "1                             NaN                             NaN   \n",
       "2                             NaN                             NaN   \n",
       "3                             NaN                             NaN   \n",
       "4                             NaN                             NaN   \n",
       "\n",
       "   Rainfall amount (millimetres)  \n",
       "0                            NaN  \n",
       "1                            NaN  \n",
       "2                            NaN  \n",
       "3                            NaN  \n",
       "4                            NaN  "
      ]
     },
     "execution_count": 8,
     "metadata": {},
     "output_type": "execute_result"
    }
   ],
   "source": [
    "clim_df.head(5)"
   ]
  },
  {
   "cell_type": "code",
   "execution_count": 9,
   "id": "ac221379",
   "metadata": {},
   "outputs": [
    {
     "data": {
      "text/plain": [
       "Index(['Bureau of Meteorology station number', 'Year', 'Month', 'Day',\n",
       "       'Maximum temperature (Degree C)', 'Minimum temperature (Degree C)',\n",
       "       'Rainfall amount (millimetres)'],\n",
       "      dtype='object')"
      ]
     },
     "execution_count": 9,
     "metadata": {},
     "output_type": "execute_result"
    }
   ],
   "source": [
    "clim_df.columns"
   ]
  },
  {
   "cell_type": "code",
   "execution_count": 10,
   "id": "325b219a",
   "metadata": {},
   "outputs": [],
   "source": [
    "clim_df.rename(columns={'Bureau of Meteorology station number': 'mount_id', \"Maximum temperature (Degree C)\": \"max_temp\", \"Minimum temperature (Degree C)\": \"min_temp\",\n",
    "\"Rainfall amount (millimetres)\":\"rain\"}, inplace=True)"
   ]
  },
  {
   "cell_type": "code",
   "execution_count": 11,
   "id": "ee6ccdd5",
   "metadata": {},
   "outputs": [
    {
     "data": {
      "text/plain": [
       "Index(['mount_id', 'Year', 'Month', 'Day', 'max_temp', 'min_temp', 'rain'], dtype='object')"
      ]
     },
     "execution_count": 11,
     "metadata": {},
     "output_type": "execute_result"
    }
   ],
   "source": [
    "clim_df.columns"
   ]
  },
  {
   "cell_type": "code",
   "execution_count": 12,
   "id": "3018d0f4",
   "metadata": {},
   "outputs": [],
   "source": [
    "clim_df.dropna(how='any', inplace=True)"
   ]
  },
  {
   "cell_type": "code",
   "execution_count": 13,
   "id": "e7658437",
   "metadata": {},
   "outputs": [
    {
     "data": {
      "text/plain": [
       "mount_id      int64\n",
       "Year          int64\n",
       "Month         int64\n",
       "Day           int64\n",
       "max_temp    float64\n",
       "min_temp    float64\n",
       "rain        float64\n",
       "dtype: object"
      ]
     },
     "execution_count": 13,
     "metadata": {},
     "output_type": "execute_result"
    }
   ],
   "source": [
    "clim_df.dtypes"
   ]
  },
  {
   "cell_type": "code",
   "execution_count": 14,
   "id": "ef61e245",
   "metadata": {},
   "outputs": [
    {
     "name": "stdout",
     "output_type": "stream",
     "text": [
      "<class 'pandas.core.frame.DataFrame'>\n",
      "Index: 36820 entries, 145 to 39812\n",
      "Data columns (total 7 columns):\n",
      " #   Column    Non-Null Count  Dtype  \n",
      "---  ------    --------------  -----  \n",
      " 0   mount_id  36820 non-null  int64  \n",
      " 1   Year      36820 non-null  int64  \n",
      " 2   Month     36820 non-null  int64  \n",
      " 3   Day       36820 non-null  int64  \n",
      " 4   max_temp  36820 non-null  float64\n",
      " 5   min_temp  36820 non-null  float64\n",
      " 6   rain      36820 non-null  float64\n",
      "dtypes: float64(3), int64(4)\n",
      "memory usage: 2.2 MB\n"
     ]
    }
   ],
   "source": [
    "clim_df.info()"
   ]
  },
  {
   "cell_type": "code",
   "execution_count": 15,
   "id": "56b076ee",
   "metadata": {},
   "outputs": [
    {
     "data": {
      "text/html": [
       "<div>\n",
       "<style scoped>\n",
       "    .dataframe tbody tr th:only-of-type {\n",
       "        vertical-align: middle;\n",
       "    }\n",
       "\n",
       "    .dataframe tbody tr th {\n",
       "        vertical-align: top;\n",
       "    }\n",
       "\n",
       "    .dataframe thead th {\n",
       "        text-align: right;\n",
       "    }\n",
       "</style>\n",
       "<table border=\"1\" class=\"dataframe\">\n",
       "  <thead>\n",
       "    <tr style=\"text-align: right;\">\n",
       "      <th></th>\n",
       "      <th>mount_id</th>\n",
       "      <th>Year</th>\n",
       "      <th>Month</th>\n",
       "      <th>Day</th>\n",
       "      <th>max_temp</th>\n",
       "      <th>min_temp</th>\n",
       "      <th>rain</th>\n",
       "    </tr>\n",
       "  </thead>\n",
       "  <tbody>\n",
       "    <tr>\n",
       "      <th>count</th>\n",
       "      <td>36820.000000</td>\n",
       "      <td>36820.000000</td>\n",
       "      <td>36820.000000</td>\n",
       "      <td>36820.000000</td>\n",
       "      <td>36820.000000</td>\n",
       "      <td>36820.000000</td>\n",
       "      <td>36820.000000</td>\n",
       "    </tr>\n",
       "    <tr>\n",
       "      <th>mean</th>\n",
       "      <td>78246.758365</td>\n",
       "      <td>2017.185117</td>\n",
       "      <td>6.402173</td>\n",
       "      <td>15.755024</td>\n",
       "      <td>9.873308</td>\n",
       "      <td>2.726285</td>\n",
       "      <td>4.661847</td>\n",
       "    </tr>\n",
       "    <tr>\n",
       "      <th>std</th>\n",
       "      <td>6110.605165</td>\n",
       "      <td>4.491438</td>\n",
       "      <td>3.420067</td>\n",
       "      <td>8.798887</td>\n",
       "      <td>7.098949</td>\n",
       "      <td>5.635775</td>\n",
       "      <td>11.147340</td>\n",
       "    </tr>\n",
       "    <tr>\n",
       "      <th>min</th>\n",
       "      <td>71032.000000</td>\n",
       "      <td>2010.000000</td>\n",
       "      <td>1.000000</td>\n",
       "      <td>1.000000</td>\n",
       "      <td>-5.800000</td>\n",
       "      <td>-14.200000</td>\n",
       "      <td>0.000000</td>\n",
       "    </tr>\n",
       "    <tr>\n",
       "      <th>25%</th>\n",
       "      <td>71075.000000</td>\n",
       "      <td>2013.000000</td>\n",
       "      <td>3.000000</td>\n",
       "      <td>8.000000</td>\n",
       "      <td>4.000000</td>\n",
       "      <td>-1.700000</td>\n",
       "      <td>0.000000</td>\n",
       "    </tr>\n",
       "    <tr>\n",
       "      <th>50%</th>\n",
       "      <td>83024.000000</td>\n",
       "      <td>2017.000000</td>\n",
       "      <td>6.000000</td>\n",
       "      <td>16.000000</td>\n",
       "      <td>9.700000</td>\n",
       "      <td>2.000000</td>\n",
       "      <td>0.000000</td>\n",
       "    </tr>\n",
       "    <tr>\n",
       "      <th>75%</th>\n",
       "      <td>83085.000000</td>\n",
       "      <td>2021.000000</td>\n",
       "      <td>9.000000</td>\n",
       "      <td>23.000000</td>\n",
       "      <td>15.500000</td>\n",
       "      <td>7.000000</td>\n",
       "      <td>3.600000</td>\n",
       "    </tr>\n",
       "    <tr>\n",
       "      <th>max</th>\n",
       "      <td>85291.000000</td>\n",
       "      <td>2025.000000</td>\n",
       "      <td>12.000000</td>\n",
       "      <td>31.000000</td>\n",
       "      <td>34.000000</td>\n",
       "      <td>22.700000</td>\n",
       "      <td>158.600000</td>\n",
       "    </tr>\n",
       "  </tbody>\n",
       "</table>\n",
       "</div>"
      ],
      "text/plain": [
       "           mount_id          Year         Month           Day      max_temp  \\\n",
       "count  36820.000000  36820.000000  36820.000000  36820.000000  36820.000000   \n",
       "mean   78246.758365   2017.185117      6.402173     15.755024      9.873308   \n",
       "std     6110.605165      4.491438      3.420067      8.798887      7.098949   \n",
       "min    71032.000000   2010.000000      1.000000      1.000000     -5.800000   \n",
       "25%    71075.000000   2013.000000      3.000000      8.000000      4.000000   \n",
       "50%    83024.000000   2017.000000      6.000000     16.000000      9.700000   \n",
       "75%    83085.000000   2021.000000      9.000000     23.000000     15.500000   \n",
       "max    85291.000000   2025.000000     12.000000     31.000000     34.000000   \n",
       "\n",
       "           min_temp          rain  \n",
       "count  36820.000000  36820.000000  \n",
       "mean       2.726285      4.661847  \n",
       "std        5.635775     11.147340  \n",
       "min      -14.200000      0.000000  \n",
       "25%       -1.700000      0.000000  \n",
       "50%        2.000000      0.000000  \n",
       "75%        7.000000      3.600000  \n",
       "max       22.700000    158.600000  "
      ]
     },
     "execution_count": 15,
     "metadata": {},
     "output_type": "execute_result"
    }
   ],
   "source": [
    "clim_df.describe()"
   ]
  },
  {
   "cell_type": "code",
   "execution_count": 16,
   "id": "115861bc",
   "metadata": {},
   "outputs": [],
   "source": [
    "stations = {\n",
    "    'Thredbo': 71032,\n",
    "    'Perisher': 71075,\n",
    "    'Selwyn': 72161,\n",
    "    'Mt. Buller': 83024,\n",
    "    'Falls Creek': 83084,\n",
    "    'Mt. Hotham': 83085,\n",
    "    'Mt. Baw Baw': 85291\n",
    "}"
   ]
  },
  {
   "cell_type": "code",
   "execution_count": 17,
   "id": "ed36a3ea",
   "metadata": {},
   "outputs": [
    {
     "data": {
      "text/plain": [
       "Index([          'Year',           'Week',            85291,   'Mt. Stirling',\n",
       "                  83085,            83084,            83024,            72161,\n",
       "                  71032,            71075, 'Charlotte Pass'],\n",
       "      dtype='object')"
      ]
     },
     "execution_count": 17,
     "metadata": {},
     "output_type": "execute_result"
    }
   ],
   "source": [
    "for i in visit_df.columns[2:]: # Trying to rename columns using the stations dictionary\n",
    "    try:\n",
    "        visit_df.rename(columns={i: stations[i]}, inplace=True)\n",
    "    except KeyError:\n",
    "        continue\n",
    "visit_df.columns"
   ]
  },
  {
   "cell_type": "code",
   "execution_count": 18,
   "id": "d6720242",
   "metadata": {},
   "outputs": [
    {
     "data": {
      "text/plain": [
       "array([71075, 71032, 83024, 83084, 83085, 85291, 72161])"
      ]
     },
     "execution_count": 18,
     "metadata": {},
     "output_type": "execute_result"
    }
   ],
   "source": [
    "clim_df[\"mount_id\"].unique()"
   ]
  },
  {
   "cell_type": "markdown",
   "id": "0f5afbb3",
   "metadata": {},
   "source": [
    "## Testing things out"
   ]
  },
  {
   "cell_type": "code",
   "execution_count": 19,
   "id": "43eeddde",
   "metadata": {},
   "outputs": [
    {
     "data": {
      "text/plain": [
       "Index(['Year', 'Week', 85291, 83085, 83084, 83024, 72161, 71032, 71075], dtype='object')"
      ]
     },
     "execution_count": 19,
     "metadata": {},
     "output_type": "execute_result"
    }
   ],
   "source": [
    "new_visit_df = visit_df\n",
    "for i in visit_df.columns[2:]:\n",
    "    if type(i) != int:\n",
    "        new_visit_df.drop(columns=i, inplace=True)\n",
    "new_visit_df.columns"
   ]
  },
  {
   "cell_type": "code",
   "execution_count": 20,
   "id": "a307e1f6",
   "metadata": {},
   "outputs": [],
   "source": [
    "new_clim_df = clim_df.drop(\n",
    "    clim_df[(clim_df[\"Year\"] < 2014) | (clim_df[\"Year\"] > 2024)].index\n",
    ")"
   ]
  },
  {
   "cell_type": "code",
   "execution_count": 21,
   "id": "3a576a6e",
   "metadata": {},
   "outputs": [
    {
     "data": {
      "text/html": [
       "<div>\n",
       "<style scoped>\n",
       "    .dataframe tbody tr th:only-of-type {\n",
       "        vertical-align: middle;\n",
       "    }\n",
       "\n",
       "    .dataframe tbody tr th {\n",
       "        vertical-align: top;\n",
       "    }\n",
       "\n",
       "    .dataframe thead th {\n",
       "        text-align: right;\n",
       "    }\n",
       "</style>\n",
       "<table border=\"1\" class=\"dataframe\">\n",
       "  <thead>\n",
       "    <tr style=\"text-align: right;\">\n",
       "      <th></th>\n",
       "      <th>mount_id</th>\n",
       "      <th>Year</th>\n",
       "      <th>Month</th>\n",
       "      <th>Day</th>\n",
       "      <th>max_temp</th>\n",
       "      <th>min_temp</th>\n",
       "      <th>rain</th>\n",
       "    </tr>\n",
       "  </thead>\n",
       "  <tbody>\n",
       "    <tr>\n",
       "      <th>count</th>\n",
       "      <td>25790.000000</td>\n",
       "      <td>25790.000000</td>\n",
       "      <td>25790.000000</td>\n",
       "      <td>25790.000000</td>\n",
       "      <td>25790.000000</td>\n",
       "      <td>25790.000000</td>\n",
       "      <td>25790.000000</td>\n",
       "    </tr>\n",
       "    <tr>\n",
       "      <th>mean</th>\n",
       "      <td>78099.514812</td>\n",
       "      <td>2018.920163</td>\n",
       "      <td>6.452385</td>\n",
       "      <td>15.772509</td>\n",
       "      <td>10.018957</td>\n",
       "      <td>2.814564</td>\n",
       "      <td>4.549035</td>\n",
       "    </tr>\n",
       "    <tr>\n",
       "      <th>std</th>\n",
       "      <td>6123.653719</td>\n",
       "      <td>3.201098</td>\n",
       "      <td>3.427184</td>\n",
       "      <td>8.799123</td>\n",
       "      <td>7.118285</td>\n",
       "      <td>5.641051</td>\n",
       "      <td>10.623513</td>\n",
       "    </tr>\n",
       "    <tr>\n",
       "      <th>min</th>\n",
       "      <td>71032.000000</td>\n",
       "      <td>2014.000000</td>\n",
       "      <td>1.000000</td>\n",
       "      <td>1.000000</td>\n",
       "      <td>-5.800000</td>\n",
       "      <td>-14.200000</td>\n",
       "      <td>0.000000</td>\n",
       "    </tr>\n",
       "    <tr>\n",
       "      <th>25%</th>\n",
       "      <td>71075.000000</td>\n",
       "      <td>2016.000000</td>\n",
       "      <td>3.000000</td>\n",
       "      <td>8.000000</td>\n",
       "      <td>4.100000</td>\n",
       "      <td>-1.500000</td>\n",
       "      <td>0.000000</td>\n",
       "    </tr>\n",
       "    <tr>\n",
       "      <th>50%</th>\n",
       "      <td>83024.000000</td>\n",
       "      <td>2019.000000</td>\n",
       "      <td>6.000000</td>\n",
       "      <td>16.000000</td>\n",
       "      <td>9.800000</td>\n",
       "      <td>2.100000</td>\n",
       "      <td>0.000000</td>\n",
       "    </tr>\n",
       "    <tr>\n",
       "      <th>75%</th>\n",
       "      <td>83085.000000</td>\n",
       "      <td>2022.000000</td>\n",
       "      <td>9.000000</td>\n",
       "      <td>23.000000</td>\n",
       "      <td>15.700000</td>\n",
       "      <td>7.000000</td>\n",
       "      <td>3.600000</td>\n",
       "    </tr>\n",
       "    <tr>\n",
       "      <th>max</th>\n",
       "      <td>85291.000000</td>\n",
       "      <td>2024.000000</td>\n",
       "      <td>12.000000</td>\n",
       "      <td>31.000000</td>\n",
       "      <td>34.000000</td>\n",
       "      <td>22.700000</td>\n",
       "      <td>158.600000</td>\n",
       "    </tr>\n",
       "  </tbody>\n",
       "</table>\n",
       "</div>"
      ],
      "text/plain": [
       "           mount_id          Year         Month           Day      max_temp  \\\n",
       "count  25790.000000  25790.000000  25790.000000  25790.000000  25790.000000   \n",
       "mean   78099.514812   2018.920163      6.452385     15.772509     10.018957   \n",
       "std     6123.653719      3.201098      3.427184      8.799123      7.118285   \n",
       "min    71032.000000   2014.000000      1.000000      1.000000     -5.800000   \n",
       "25%    71075.000000   2016.000000      3.000000      8.000000      4.100000   \n",
       "50%    83024.000000   2019.000000      6.000000     16.000000      9.800000   \n",
       "75%    83085.000000   2022.000000      9.000000     23.000000     15.700000   \n",
       "max    85291.000000   2024.000000     12.000000     31.000000     34.000000   \n",
       "\n",
       "           min_temp          rain  \n",
       "count  25790.000000  25790.000000  \n",
       "mean       2.814564      4.549035  \n",
       "std        5.641051     10.623513  \n",
       "min      -14.200000      0.000000  \n",
       "25%       -1.500000      0.000000  \n",
       "50%        2.100000      0.000000  \n",
       "75%        7.000000      3.600000  \n",
       "max       22.700000    158.600000  "
      ]
     },
     "execution_count": 21,
     "metadata": {},
     "output_type": "execute_result"
    }
   ],
   "source": [
    "new_clim_df.describe() #checking if the filtering worked"
   ]
  },
  {
   "cell_type": "code",
   "execution_count": 22,
   "id": "3d5ad9de",
   "metadata": {
    "vscode": {
     "languageId": "ruby"
    }
   },
   "outputs": [],
   "source": [
    "# Convert Month and Day to a datetime, then get week number\n",
    "new_clim_df['date'] = pd.to_datetime(dict(year=new_clim_df['Year'], month=new_clim_df['Month'], day=new_clim_df['Day']))\n",
    "new_clim_df['week'] = new_clim_df['date'].dt.isocalendar().week\n",
    "\n",
    "# Filter for weeks 1 to 15\n",
    "filtered_clim_df = new_clim_df[(new_clim_df['week'] >= 1) & (new_clim_df['week'] <= 15)]\n",
    "\n",
    "# Group by Year and week, take average of other columns\n",
    "weekly_avg_clim_df = filtered_clim_df.groupby(['Year', 'week'], as_index=False).mean(numeric_only=True)"
   ]
  },
  {
   "cell_type": "code",
   "execution_count": 23,
   "id": "a3252a1b",
   "metadata": {
    "vscode": {
     "languageId": "ruby"
    }
   },
   "outputs": [],
   "source": [
    "new_clim_df.drop(columns=['Month', 'Day', 'date'], inplace=True)\n",
    "new_clim_df.drop(new_clim_df[new_clim_df['week'] > 15].index, inplace=True)"
   ]
  },
  {
   "cell_type": "code",
   "execution_count": 24,
   "id": "732d6601",
   "metadata": {
    "vscode": {
     "languageId": "ruby"
    }
   },
   "outputs": [
    {
     "data": {
      "text/plain": [
       "Index(['mount_id', 'Year', 'max_temp', 'min_temp', 'rain', 'week'], dtype='object')"
      ]
     },
     "execution_count": 24,
     "metadata": {},
     "output_type": "execute_result"
    }
   ],
   "source": [
    "new_clim_df.columns"
   ]
  },
  {
   "cell_type": "code",
   "execution_count": 25,
   "id": "46516c90",
   "metadata": {
    "vscode": {
     "languageId": "ruby"
    }
   },
   "outputs": [],
   "source": [
    "new_clim_df = new_clim_df[['mount_id', 'Year', 'week',  'max_temp', 'min_temp', 'rain']]"
   ]
  },
  {
   "cell_type": "code",
   "execution_count": 26,
   "id": "df090eb9",
   "metadata": {
    "vscode": {
     "languageId": "ruby"
    }
   },
   "outputs": [],
   "source": [
    "new_clim_df.to_csv(\"cleaned_climate_data.csv\", index=False)\n",
    "new_visit_df.to_csv(\"cleaned_visit_data.csv\", index=False)"
   ]
  }
 ],
 "metadata": {
  "kernelspec": {
   "display_name": "Python 3",
   "language": "python",
   "name": "python3"
  },
  "language_info": {
   "codemirror_mode": {
    "name": "ipython",
    "version": 3
   },
   "file_extension": ".py",
   "mimetype": "text/x-python",
   "name": "python",
   "nbconvert_exporter": "python",
   "pygments_lexer": "ipython3",
   "version": "3.13.5"
  }
 },
 "nbformat": 4,
 "nbformat_minor": 5
}
