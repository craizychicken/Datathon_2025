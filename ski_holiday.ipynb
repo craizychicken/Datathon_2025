{
 "cells": [
  {
   "cell_type": "code",
   "execution_count": 1,
   "id": "b2c45bd1",
   "metadata": {},
   "outputs": [],
   "source": [
    "import pandas as pd\n",
    "import numpy as np"
   ]
  },
  {
   "cell_type": "code",
   "execution_count": 2,
   "id": "edab0099",
   "metadata": {},
   "outputs": [],
   "source": [
    "visitation_data = \"visitation_d.csv\"\n",
    "climate_data = \"climate_d.csv\"\n",
    "\n",
    "visit_df = pd.read_csv(visitation_data)\n",
    "clim_df = pd.read_csv(climate_data)"
   ]
  },
  {
   "cell_type": "markdown",
   "id": "2cfc6617",
   "metadata": {},
   "source": [
    "## Cleaning visitation data"
   ]
  },
  {
   "cell_type": "code",
   "execution_count": 3,
   "id": "6208d7fb",
   "metadata": {},
   "outputs": [],
   "source": [
    "visit_df.head(5)"
   ]
  },
  {
   "cell_type": "code",
   "execution_count": 4,
   "id": "c933cd08",
   "metadata": {},
   "outputs": [],
   "source": [
    "visit_df.dtypes"
   ]
  },
  {
   "cell_type": "code",
   "execution_count": 5,
   "id": "64ebaa41",
   "metadata": {},
   "outputs": [],
   "source": [
    "visit_df.info()"
   ]
  },
  {
   "cell_type": "code",
   "execution_count": 6,
   "id": "af590e92",
   "metadata": {},
   "outputs": [],
   "source": [
    "visit_df.count() # check for null values"
   ]
  },
  {
   "cell_type": "code",
   "execution_count": 7,
   "id": "221bcbcc",
   "metadata": {},
   "outputs": [],
   "source": [
    "visit_df.describe()"
   ]
  },
  {
   "cell_type": "markdown",
   "id": "d52c2bf9",
   "metadata": {},
   "source": [
    "## Cleaning climate data"
   ]
  },
  {
   "cell_type": "code",
   "execution_count": 8,
   "id": "d0b2957e",
   "metadata": {},
   "outputs": [],
   "source": [
    "clim_df.head(5)"
   ]
  },
  {
   "cell_type": "code",
   "execution_count": 9,
   "id": "ac221379",
   "metadata": {},
   "outputs": [],
   "source": [
    "clim_df.columns"
   ]
  },
  {
   "cell_type": "code",
   "execution_count": 10,
   "id": "325b219a",
   "metadata": {},
   "outputs": [],
   "source": [
    "clim_df.rename(columns={'Bureau of Meteorology station number': 'mount_id', \"Maximum temperature (Degree C)\": \"max_temp\", \"Minimum temperature (Degree C)\": \"min_temp\",\n",
    "\"Rainfall amount (millimetres)\":\"rain\"}, inplace=True)"
   ]
  },
  {
   "cell_type": "code",
   "execution_count": 11,
   "id": "ee6ccdd5",
   "metadata": {},
   "outputs": [],
   "source": [
    "clim_df.columns"
   ]
  },
  {
   "cell_type": "code",
   "execution_count": 12,
   "id": "3018d0f4",
   "metadata": {},
   "outputs": [],
   "source": [
    "clim_df.dropna(how='any', inplace=True)"
   ]
  },
  {
   "cell_type": "code",
   "execution_count": 13,
   "id": "e7658437",
   "metadata": {},
   "outputs": [],
   "source": [
    "clim_df.dtypes"
   ]
  },
  {
   "cell_type": "code",
   "execution_count": 14,
   "id": "ef61e245",
   "metadata": {},
   "outputs": [],
   "source": [
    "clim_df.info()"
   ]
  },
  {
   "cell_type": "code",
   "execution_count": 15,
   "id": "56b076ee",
   "metadata": {},
   "outputs": [],
   "source": [
    "clim_df.describe()"
   ]
  },
  {
   "cell_type": "code",
   "execution_count": 16,
   "id": "115861bc",
   "metadata": {},
   "outputs": [],
   "source": [
    "stations = {\n",
    "    'Thredbo': 71032,\n",
    "    'Perisher': 71075,\n",
    "    'Selwyn': 72161,\n",
    "    'Mt. Buller': 83024,\n",
    "    'Falls Creek': 83084,\n",
    "    'Mt. Hotham': 83085,\n",
    "    'Mt. Baw Baw': 85291\n",
    "}"
   ]
  },
  {
   "cell_type": "code",
   "execution_count": 17,
   "id": "ed36a3ea",
   "metadata": {},
   "outputs": [],
   "source": [
    "for i in visit_df.columns[2:]: # Trying to rename columns using the stations dictionary\n",
    "    try:\n",
    "        visit_df.rename(columns={i: stations[i]}, inplace=True)\n",
    "    except KeyError:\n",
    "        continue\n",
    "visit_df.columns"
   ]
  },
  {
   "cell_type": "code",
   "execution_count": 18,
   "id": "d6720242",
   "metadata": {},
   "outputs": [],
   "source": [
    "clim_df[\"mount_id\"].unique()"
   ]
  },
  {
   "cell_type": "markdown",
   "id": "0f5afbb3",
   "metadata": {},
   "source": [
    "## Testing things out"
   ]
  },
  {
   "cell_type": "code",
   "execution_count": 19,
   "id": "43eeddde",
   "metadata": {},
   "outputs": [],
   "source": [
    "new_visit_df = visit_df\n",
    "for i in visit_df.columns[2:]:\n",
    "    if type(i) != int:\n",
    "        new_visit_df.drop(columns=i, inplace=True)\n",
    "new_visit_df.columns"
   ]
  },
  {
   "cell_type": "code",
   "execution_count": 20,
   "id": "a307e1f6",
   "metadata": {},
   "outputs": [],
   "source": [
    "new_clim_df = clim_df.drop(\n",
    "    clim_df[(clim_df[\"Year\"] < 2014) | (clim_df[\"Year\"] > 2024)].index\n",
    ")"
   ]
  },
  {
   "cell_type": "code",
   "execution_count": 21,
   "id": "3a576a6e",
   "metadata": {},
   "outputs": [],
   "source": [
    "new_clim_df.describe() #checking if the filtering worked"
   ]
  },
  {
   "cell_type": "code",
   "execution_count": 22,
   "id": "3d5ad9de",
   "metadata": {},
   "outputs": [],
   "source": [
    "# Convert Month and Day to a datetime, then get week number\n",
    "new_clim_df['date'] = pd.to_datetime(dict(year=new_clim_df['Year'], month=new_clim_df['Month'], day=new_clim_df['Day']))\n",
    "new_clim_df['week'] = new_clim_df['date'].dt.isocalendar().week\n",
    "\n",
    "# Filter for weeks 1 to 15\n",
    "filtered_clim_df = new_clim_df[(new_clim_df['week'] >= 1) & (new_clim_df['week'] <= 15)]\n",
    "\n",
    "# Group by Year and week, take average of other columns\n",
    "weekly_avg_clim_df = filtered_clim_df.groupby(['Year', 'week'], as_index=False).mean(numeric_only=True)"
   ]
  },
  {
   "cell_type": "code",
   "execution_count": 23,
   "id": "a3252a1b",
   "metadata": {},
   "outputs": [],
   "source": [
    "new_clim_df.drop(columns=['Month', 'Day', 'date'], inplace=True)\n",
    "new_clim_df.drop(new_clim_df[new_clim_df['week'] > 15].index, inplace=True)"
   ]
  },
  {
   "cell_type": "code",
   "execution_count": 24,
   "id": "732d6601",
   "metadata": {},
   "outputs": [],
   "source": [
    "new_clim_df.columns"
   ]
  },
  {
   "cell_type": "code",
   "execution_count": 25,
   "id": "46516c90",
   "metadata": {},
   "outputs": [],
   "source": [
    "new_clim_df = new_clim_df[['mount_id', 'Year', 'week',  'max_temp', 'min_temp', 'rain']]"
   ]
  },
  {
   "cell_type": "code",
   "execution_count": null,
   "id": "df090eb9",
   "metadata": {},
   "outputs": [],
   "source": [
    "new_clim_df.to_csv(\"cleaned_climate_data.csv\", index=False)"
   ]
  },
  {
   "cell_type": "markdown",
   "id": "b4d0f47f",
   "metadata": {},
   "source": [
    "## Cleaning out the visitor mountain again"
   ]
  },
  {
   "cell_type": "code",
   "execution_count": 27,
   "id": "32b9f985",
   "metadata": {},
   "outputs": [],
   "source": [
    "new_visit_df.describe()"
   ]
  },
  {
   "cell_type": "code",
   "execution_count": 28,
   "id": "c2b0ef3e",
   "metadata": {},
   "outputs": [],
   "source": [
    "from sklearn.ensemble import IsolationForest\n",
    "\n",
    "mountain_cols = [c for c in new_visit_df.columns if c not in ['Year','Week']]\n",
    "outlier_indices = set()\n",
    "mult = 1.5\n",
    "\n",
    "X = new_visit_df[mountain_cols].apply(pd.to_numeric, errors='coerce')\n",
    "\n",
    "# simple imputation for missing values — median is robust\n",
    "X_imp = X.fillna(X.median())\n",
    "\n",
    "clf = IsolationForest(contamination=0.01, random_state=0)   # adjust contamination\n",
    "clf.fit(X_imp)\n",
    "new_visit_df['iso_outlier'] = clf.predict(X_imp) == -1\n",
    "\n",
    "clean_df = new_visit_df.loc[~new_visit_df['iso_outlier']].reset_index(drop=True)"
   ]
  },
  {
   "cell_type": "code",
   "execution_count": 29,
   "id": "71fd2f19",
   "metadata": {},
   "outputs": [],
   "source": [
    "new_visit_df.info()"
   ]
  },
  {
   "cell_type": "code",
   "execution_count": 30,
   "id": "68ae168f",
   "metadata": {},
   "outputs": [],
   "source": [
    "new_visit_df[\"iso_outlier\"].value_counts()"
   ]
  },
  {
   "cell_type": "code",
   "execution_count": 31,
   "id": "85518e57",
   "metadata": {},
   "outputs": [],
   "source": [
    "new_visit_df.drop(new_visit_df[new_visit_df['iso_outlier'] == True].index, inplace=True)\n",
    "new_visit_df.drop(columns=['iso_outlier'], inplace=True)"
   ]
  },
  {
   "cell_type": "code",
   "execution_count": 32,
   "id": "22c92812",
   "metadata": {},
   "outputs": [],
   "source": [
    "new_visit_df.info()"
   ]
  },
  {
   "cell_type": "code",
   "execution_count": 33,
   "id": "9323a81d",
   "metadata": {},
   "outputs": [],
   "source": [
    "new_visit_df.describe()"
   ]
  },
  {
   "cell_type": "code",
   "execution_count": 34,
   "id": "95c43dc2",
   "metadata": {},
   "outputs": [],
   "source": [
    "new_visit_df.to_csv(\"cleaned_visit_data.csv\", index=False)"
   ]
  },
  {
   "cell_type": "code",
   "execution_count": null,
   "id": "8234173a",
   "metadata": {},
   "outputs": [],
   "source": [
    "new_visit_df.head(5)"
   ]
  },
  {
   "cell_type": "code",
   "execution_count": 36,
   "id": "531ffc06",
   "metadata": {},
   "outputs": [
    {
     "data": {
      "text/html": [
       "<div>\n",
       "<style scoped>\n",
       "    .dataframe tbody tr th:only-of-type {\n",
       "        vertical-align: middle;\n",
       "    }\n",
       "\n",
       "    .dataframe tbody tr th {\n",
       "        vertical-align: top;\n",
       "    }\n",
       "\n",
       "    .dataframe thead th {\n",
       "        text-align: right;\n",
       "    }\n",
       "</style>\n",
       "<table border=\"1\" class=\"dataframe\">\n",
       "  <thead>\n",
       "    <tr style=\"text-align: right;\">\n",
       "      <th></th>\n",
       "      <th>mount_id</th>\n",
       "      <th>Year</th>\n",
       "      <th>week</th>\n",
       "      <th>max_temp</th>\n",
       "      <th>min_temp</th>\n",
       "      <th>rain</th>\n",
       "    </tr>\n",
       "  </thead>\n",
       "  <tbody>\n",
       "    <tr>\n",
       "      <th>1461</th>\n",
       "      <td>71075</td>\n",
       "      <td>2014</td>\n",
       "      <td>1</td>\n",
       "      <td>14.3</td>\n",
       "      <td>2.5</td>\n",
       "      <td>0.0</td>\n",
       "    </tr>\n",
       "    <tr>\n",
       "      <th>1462</th>\n",
       "      <td>71075</td>\n",
       "      <td>2014</td>\n",
       "      <td>1</td>\n",
       "      <td>18.1</td>\n",
       "      <td>8.8</td>\n",
       "      <td>0.8</td>\n",
       "    </tr>\n",
       "    <tr>\n",
       "      <th>1463</th>\n",
       "      <td>71075</td>\n",
       "      <td>2014</td>\n",
       "      <td>1</td>\n",
       "      <td>14.8</td>\n",
       "      <td>9.5</td>\n",
       "      <td>0.0</td>\n",
       "    </tr>\n",
       "    <tr>\n",
       "      <th>1464</th>\n",
       "      <td>71075</td>\n",
       "      <td>2014</td>\n",
       "      <td>1</td>\n",
       "      <td>11.6</td>\n",
       "      <td>4.2</td>\n",
       "      <td>0.2</td>\n",
       "    </tr>\n",
       "    <tr>\n",
       "      <th>1465</th>\n",
       "      <td>71075</td>\n",
       "      <td>2014</td>\n",
       "      <td>1</td>\n",
       "      <td>14.5</td>\n",
       "      <td>5.0</td>\n",
       "      <td>0.0</td>\n",
       "    </tr>\n",
       "  </tbody>\n",
       "</table>\n",
       "</div>"
      ],
      "text/plain": [
       "      mount_id  Year  week  max_temp  min_temp  rain\n",
       "1461     71075  2014     1      14.3       2.5   0.0\n",
       "1462     71075  2014     1      18.1       8.8   0.8\n",
       "1463     71075  2014     1      14.8       9.5   0.0\n",
       "1464     71075  2014     1      11.6       4.2   0.2\n",
       "1465     71075  2014     1      14.5       5.0   0.0"
      ]
     },
     "execution_count": 36,
     "metadata": {},
     "output_type": "execute_result"
    }
   ],
   "source": [
    "new_clim_df.head(5)"
   ]
  }
 ],
 "metadata": {
  "kernelspec": {
   "display_name": "Python 3",
   "language": "python",
   "name": "python3"
  },
  "language_info": {
   "codemirror_mode": {
    "name": "ipython",
    "version": 3
   },
   "file_extension": ".py",
   "mimetype": "text/x-python",
   "name": "python",
   "nbconvert_exporter": "python",
   "pygments_lexer": "ipython3",
   "version": "3.13.5"
  }
 },
 "nbformat": 4,
 "nbformat_minor": 5
}
